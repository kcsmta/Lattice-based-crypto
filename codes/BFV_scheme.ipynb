{
 "cells": [
  {
   "cell_type": "code",
   "execution_count": 4,
   "metadata": {},
   "outputs": [
    {
     "name": "stdout",
     "output_type": "stream",
     "text": [
      "[[0.40677597 0.20349087 0.47153835 0.03487452]\n",
      " [0.62750865 0.41805444 0.47017376 0.81863547]\n",
      " [0.6251257  0.82676178 0.81759628 0.14088195]]\n"
     ]
    }
   ],
   "source": [
    "import numpy as np\n",
    "A = np.random.random((3,4))\n",
    "print(A)"
   ]
  },
  {
   "cell_type": "code",
   "execution_count": null,
   "metadata": {},
   "outputs": [],
   "source": []
  }
 ],
 "metadata": {
  "kernelspec": {
   "display_name": "Lattice-based-crypto",
   "language": "python",
   "name": "lattice-based-crypto"
  },
  "language_info": {
   "codemirror_mode": {
    "name": "ipython",
    "version": 3
   },
   "file_extension": ".py",
   "mimetype": "text/x-python",
   "name": "python",
   "nbconvert_exporter": "python",
   "pygments_lexer": "ipython3",
   "version": "3.6.9"
  },
  "orig_nbformat": 4,
  "vscode": {
   "interpreter": {
    "hash": "987364d3eb3742fc8aa01649292f260c26c10c40cad068d2367c0c6b1c2f9cc8"
   }
  }
 },
 "nbformat": 4,
 "nbformat_minor": 2
}
